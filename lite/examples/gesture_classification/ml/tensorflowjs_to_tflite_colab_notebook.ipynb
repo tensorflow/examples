{
  "cells": [
    {
      "cell_type": "markdown",
      "metadata": {
        "id": "Tce3stUlHN0L"
      },
      "source": [
        "##### Copyright 2018 The TensorFlow Authors.\n"
      ]
    },
    {
      "cell_type": "code",
      "execution_count": null,
      "metadata": {
        "cellView": "form",
        "id": "tuOe1ymfHZPu"
      },
      "outputs": [],
      "source": [
        "#@title Licensed under the Apache License, Version 2.0 (the \"License\");\n",
        "# you may not use this file except in compliance with the License.\n",
        "# You may obtain a copy of the License at\n",
        "#\n",
        "# https://www.apache.org/licenses/LICENSE-2.0\n",
        "#\n",
        "# Unless required by applicable law or agreed to in writing, software\n",
        "# distributed under the License is distributed on an \"AS IS\" BASIS,\n",
        "# WITHOUT WARRANTIES OR CONDITIONS OF ANY KIND, either express or implied.\n",
        "# See the License for the specific language governing permissions and\n",
        "# limitations under the License."
      ]
    },
    {
      "cell_type": "markdown",
      "metadata": {
        "id": "D6zc4Q6bxmHM"
      },
      "source": [
        "# Tensorflow Lite Gesture Classification Example Conversion Script\n",
        "\n",
        "\n",
        "This guide shows how you can go about converting the model trained with TensorFlowJS to TensorFlow Lite FlatBuffers.\n",
        "\n",
        "Run all steps in-order. At the end, `model.tflite` file will be downloaded.\n"
      ]
    },
    {
      "cell_type": "markdown",
      "metadata": {
        "id": "MfBg1C5NB3X0"
      },
      "source": [
        "\u003ctable class=\"tfo-notebook-buttons\" align=\"left\"\u003e\n",
        "  \u003ctd\u003e\n",
        "    \u003ca target=\"_blank\" href=\"https://colab.research.google.com/github/tensorflow/examples/blob/master/lite/examples/gesture_classification/ml/tensorflowjs_to_tflite_colab_notebook.ipynb\"\u003e\n",
        "    \u003cimg src=\"https://www.tensorflow.org/images/colab_logo_32px.png\" /\u003e\n",
        "    Run in Google Colab\u003c/a\u003e\n",
        "  \u003c/td\u003e\n",
        "  \u003ctd\u003e\n",
        "    \u003ca target=\"_blank\" href=\"https://github.com/tensorflow/examples/blob/master/lite/examples/gesture_classification/ml/tensorflowjs_to_tflite_colab_notebook.ipynb\"\u003e\n",
        "    \u003cimg src=\"https://www.tensorflow.org/images/GitHub-Mark-32px.png\" /\u003e\n",
        "    View source on GitHub\u003c/a\u003e\n",
        "  \u003c/td\u003e\n",
        "\u003c/table\u003e"
      ]
    },
    {
      "cell_type": "markdown",
      "metadata": {
        "id": "yVMF3Q_HnJ09"
      },
      "source": [
        "**Install Dependencies**"
      ]
    },
    {
      "cell_type": "code",
      "execution_count": null,
      "metadata": {
        "id": "FbMsNJ4PAq2j"
      },
      "outputs": [],
      "source": [
        "!pip install -q tensorflowjs"
      ]
    },
    {
      "cell_type": "code",
      "execution_count": null,
      "metadata": {
        "id": "WZGFStffPj_Z"
      },
      "outputs": [],
      "source": [
        "import traceback\n",
        "import logging\n",
        "import tensorflow as tf \n",
        "import os\n",
        "\n",
        "from google.colab import files\n",
        "from tensorflow import keras\n",
        "from tensorflowjs.converters import load_keras_model\n",
        "\n",
        "logging.basicConfig(level=logging.INFO)\n",
        "logger = logging.getLogger(__name__)"
      ]
    },
    {
      "cell_type": "markdown",
      "metadata": {
        "id": "Lh7zgNXVx8ML"
      },
      "source": [
        "***Cleanup any existing models if necessary***"
      ]
    },
    {
      "cell_type": "code",
      "execution_count": null,
      "metadata": {
        "id": "JrMA8frMx7aa"
      },
      "outputs": [],
      "source": [
        "!rm -rf *.h5 *.tflite *.json *.bin"
      ]
    },
    {
      "cell_type": "markdown",
      "metadata": {
        "id": "ct36DONNnNZJ"
      },
      "source": [
        "**Upload your Tensorflow.js Artifacts Here**\n",
        "\n",
        "i.e., The weights manifest **model.json** and the binary weights file **model-weights.bin**"
      ]
    },
    {
      "cell_type": "code",
      "execution_count": null,
      "metadata": {
        "id": "s-_80hGtMTFb"
      },
      "outputs": [],
      "source": [
        "files.upload()"
      ]
    },
    {
      "cell_type": "markdown",
      "metadata": {
        "id": "_ctAZ--FnStM"
      },
      "source": [
        "**Export Configuration**"
      ]
    },
    {
      "cell_type": "code",
      "execution_count": null,
      "metadata": {
        "id": "hrzzoZP5oK7S"
      },
      "outputs": [],
      "source": [
        "#@title Export Configuration\n",
        "\n",
        "# TensorFlow.js arguments\n",
        "\n",
        "config_json = \"model.json\" #@param {type:\"string\"}\n",
        "weights_path_prefix = None #@param {type:\"raw\"}\n",
        "model_tflite = \"model.tflite\" #@param {type:\"string\"}\n"
      ]
    },
    {
      "cell_type": "markdown",
      "metadata": {
        "id": "RA0iINpNiK_p"
      },
      "source": [
        "**Model Converter**\n",
        "\n",
        "The following class converts a TensorFlow.js model to a TFLite FlatBuffer"
      ]
    },
    {
      "cell_type": "code",
      "execution_count": null,
      "metadata": {
        "id": "8QMjVgxVggQJ"
      },
      "outputs": [],
      "source": [
        "class ModelConverter:\n",
        "    \"\"\"\n",
        "    Creates a ModelConverter class from a TensorFlow.js model file.\n",
        "\n",
        "    Args:\n",
        "      :param config_json_path: Full filepath of weights manifest file containing the model architecture.\n",
        "      :param weights_path_prefix: Full filepath to the directory in which the weights binaries exist.\n",
        "      :param tflite_model_file: Name of the TFLite FlatBuffer file to be exported.\n",
        "\n",
        "    :return:\n",
        "      ModelConverter class.\n",
        "    \"\"\"\n",
        "\n",
        "    def __init__(self,\n",
        "                 config_json_path,\n",
        "                 weights_path_prefix,\n",
        "                 tflite_model_file\n",
        "                 ):\n",
        "        self.config_json_path = config_json_path\n",
        "        self.weights_path_prefix = weights_path_prefix\n",
        "        self.tflite_model_file = tflite_model_file\n",
        "        self.keras_model_file = 'merged.h5'\n",
        "\n",
        "        # MobileNet Options\n",
        "        self.input_node_name = 'the_input'\n",
        "        self.image_size = 224\n",
        "        self.alpha = 0.25\n",
        "        self.depth_multiplier = 1\n",
        "        self._input_shape = (1, self.image_size, self.image_size, 3)\n",
        "        self.depthwise_conv_layer = 'conv_pw_13_relu'\n",
        "\n",
        "    def convert(self):\n",
        "        self.save_keras_model()\n",
        "        self._deserialize_tflite_from_keras()\n",
        "        logger.info('The TFLite model has been generated')\n",
        "\n",
        "    def save_keras_model(self):\n",
        "        top_model = load_keras_model(self.config_json_path, self.weights_path_prefix,\n",
        "                                     weights_data_buffers=None,\n",
        "                                     load_weights=True,\n",
        "                                     )\n",
        "        base_model = self.get_base_model()\n",
        "        self._merged_model = self.merge(base_model, top_model)\n",
        "\n",
        "        logger.info(\"The merged Keras has been generated.\")\n",
        "\n",
        "    def merge(self, base_model, top_model):\n",
        "        \"\"\"\n",
        "        Merges base model with the classification block\n",
        "        :return:  Returns the merged Keras model\n",
        "        \"\"\"\n",
        "        logger.info(\"Initializing model...\")\n",
        "\n",
        "        layer = base_model.get_layer(self.depthwise_conv_layer)\n",
        "        model = keras.Model(inputs=base_model.input, outputs=top_model(layer.output))\n",
        "        logger.info(\"Model created.\")\n",
        "\n",
        "        return model\n",
        "\n",
        "    def get_base_model(self):\n",
        "        \"\"\"\n",
        "        Builds MobileNet with the default parameters\n",
        "        :return:  Returns the base MobileNet model\n",
        "        \"\"\"\n",
        "        input_tensor = keras.Input(shape=self._input_shape[1:], name=self.input_node_name)\n",
        "        base_model = keras.applications.MobileNet(input_shape=self._input_shape[1:],\n",
        "                               alpha=self.alpha,\n",
        "                               depth_multiplier=self.depth_multiplier,\n",
        "                               input_tensor=input_tensor,\n",
        "                               include_top=False)\n",
        "        return base_model\n",
        "\n",
        "    def _deserialize_tflite_from_keras(self):\n",
        "        converter = tf.lite.TFLiteConverter.from_keras_model(self._merged_model)\n",
        "        tflite_model = converter.convert()\n",
        "\n",
        "        with open(self.tflite_model_file, \"wb\") as file:\n",
        "            file.write(tflite_model)"
      ]
    },
    {
      "cell_type": "code",
      "execution_count": null,
      "metadata": {
        "id": "qUeoHM-Jg7uv"
      },
      "outputs": [],
      "source": [
        "try:\n",
        "    converter = ModelConverter(config_json,\n",
        "                               weights_path_prefix,\n",
        "                               model_tflite)\n",
        "\n",
        "    converter.convert()\n",
        "\n",
        "except ValueError as e:\n",
        "    print(traceback.format_exc())\n",
        "    print(\"Error occurred while converting.\")"
      ]
    },
    {
      "cell_type": "code",
      "execution_count": null,
      "metadata": {
        "id": "G7noTBgTg8Fz"
      },
      "outputs": [],
      "source": [
        "files.download(model_tflite)"
      ]
    }
  ],
  "metadata": {
    "accelerator": "GPU",
    "colab": {
      "collapsed_sections": [],
      "name": "tensorflowjs_to_tflite_colab_notebook.ipynb",
      "provenance": []
    },
    "kernelspec": {
      "display_name": "Python 3",
      "name": "python3"
    }
  },
  "nbformat": 4,
  "nbformat_minor": 0
}
