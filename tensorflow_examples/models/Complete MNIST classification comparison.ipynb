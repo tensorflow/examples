{
 "cells": [
  {
   "cell_type": "code",
   "execution_count": 34,
   "id": "ec79adc4",
   "metadata": {},
   "outputs": [],
   "source": [
    "import tensorflow as tf\n",
    "import matplotlib.pyplot as plt\n",
    "from sklearn.metrics import confusion_matrix\n",
    "import numpy as np"
   ]
  },
  {
   "cell_type": "code",
   "execution_count": 35,
   "id": "54ec7992",
   "metadata": {},
   "outputs": [],
   "source": [
    "mnist = tf.keras.datasets.mnist"
   ]
  },
  {
   "cell_type": "code",
   "execution_count": 36,
   "id": "b0114801",
   "metadata": {},
   "outputs": [],
   "source": [
    "(x_train,y_train),(x_test,y_test) = mnist.load_data()"
   ]
  },
  {
   "cell_type": "code",
   "execution_count": 37,
   "id": "bf790e12",
   "metadata": {},
   "outputs": [],
   "source": [
    "x_train = x_train/255"
   ]
  },
  {
   "cell_type": "code",
   "execution_count": 38,
   "id": "71675baa",
   "metadata": {},
   "outputs": [],
   "source": [
    "x_test = x_test/255"
   ]
  },
  {
   "cell_type": "code",
   "execution_count": 39,
   "id": "d1643f50",
   "metadata": {},
   "outputs": [
    {
     "data": {
      "text/plain": [
       "(60000, 28, 28)"
      ]
     },
     "execution_count": 39,
     "metadata": {},
     "output_type": "execute_result"
    }
   ],
   "source": [
    "# We have rescaled the data for easier computations\n",
    "x_train.shape"
   ]
  },
  {
   "cell_type": "code",
   "execution_count": 40,
   "id": "dc39a1a3",
   "metadata": {},
   "outputs": [],
   "source": [
    "# As we can see that input shape is 28,28 for a specific mnist data image and there are 60000 training examples"
   ]
  },
  {
   "cell_type": "code",
   "execution_count": 41,
   "id": "2fcb1c34",
   "metadata": {},
   "outputs": [],
   "source": [
    "# Lets build a ANN model to tryout the classification model\n",
    "model_1 = tf.keras.models.Sequential([tf.keras.layers.Flatten(input_shape =(28,28)),\n",
    "                                     tf.keras.layers.Dense(units = 128, activation = 'relu'),\n",
    "                                     tf.keras.layers.Dropout(0.2),\n",
    "                                     tf.keras.layers.Dense(units = 10, activation = 'sigmoid')])"
   ]
  },
  {
   "cell_type": "code",
   "execution_count": 42,
   "id": "0c8d38bc",
   "metadata": {},
   "outputs": [],
   "source": [
    "model_1.compile(optimizer = 'Adam',loss = 'sparse_categorical_crossentropy',metrics = 'accuracy')"
   ]
  },
  {
   "cell_type": "code",
   "execution_count": 43,
   "id": "ddb864bb",
   "metadata": {},
   "outputs": [
    {
     "name": "stdout",
     "output_type": "stream",
     "text": [
      "Epoch 1/15\n",
      "1875/1875 [==============================] - 4s 2ms/step - loss: 0.3004 - accuracy: 0.9127 - val_loss: 0.1324 - val_accuracy: 0.9595\n",
      "Epoch 2/15\n",
      "1875/1875 [==============================] - 3s 1ms/step - loss: 0.1456 - accuracy: 0.9565 - val_loss: 0.1020 - val_accuracy: 0.9689\n",
      "Epoch 3/15\n",
      "1875/1875 [==============================] - 2s 1ms/step - loss: 0.1076 - accuracy: 0.9672 - val_loss: 0.0877 - val_accuracy: 0.9731\n",
      "Epoch 4/15\n",
      "1875/1875 [==============================] - 3s 1ms/step - loss: 0.0890 - accuracy: 0.9726 - val_loss: 0.0824 - val_accuracy: 0.9734\n",
      "Epoch 5/15\n",
      "1875/1875 [==============================] - 3s 2ms/step - loss: 0.0757 - accuracy: 0.9761 - val_loss: 0.0731 - val_accuracy: 0.9772\n",
      "Epoch 6/15\n",
      "1875/1875 [==============================] - 3s 2ms/step - loss: 0.0650 - accuracy: 0.9790 - val_loss: 0.0741 - val_accuracy: 0.9778\n",
      "Epoch 7/15\n",
      "1875/1875 [==============================] - 3s 1ms/step - loss: 0.0589 - accuracy: 0.9809 - val_loss: 0.0724 - val_accuracy: 0.9774\n",
      "Epoch 8/15\n",
      "1875/1875 [==============================] - 3s 1ms/step - loss: 0.0517 - accuracy: 0.9827 - val_loss: 0.0710 - val_accuracy: 0.9787\n",
      "Epoch 9/15\n",
      "1875/1875 [==============================] - 3s 1ms/step - loss: 0.0473 - accuracy: 0.9849 - val_loss: 0.0707 - val_accuracy: 0.9779\n",
      "Epoch 10/15\n",
      "1875/1875 [==============================] - 3s 2ms/step - loss: 0.0438 - accuracy: 0.9858 - val_loss: 0.0732 - val_accuracy: 0.9799\n",
      "Epoch 11/15\n",
      "1875/1875 [==============================] - 3s 1ms/step - loss: 0.0401 - accuracy: 0.9865 - val_loss: 0.0684 - val_accuracy: 0.9812\n",
      "Epoch 12/15\n",
      "1875/1875 [==============================] - 3s 1ms/step - loss: 0.0390 - accuracy: 0.9871 - val_loss: 0.0775 - val_accuracy: 0.9788\n",
      "Epoch 13/15\n",
      "1875/1875 [==============================] - 3s 1ms/step - loss: 0.0366 - accuracy: 0.9873 - val_loss: 0.0792 - val_accuracy: 0.9808\n",
      "Epoch 14/15\n",
      "1875/1875 [==============================] - 3s 1ms/step - loss: 0.0350 - accuracy: 0.9877 - val_loss: 0.0717 - val_accuracy: 0.9794\n",
      "Epoch 15/15\n",
      "1875/1875 [==============================] - 3s 1ms/step - loss: 0.0330 - accuracy: 0.9890 - val_loss: 0.0715 - val_accuracy: 0.9809\n"
     ]
    }
   ],
   "source": [
    "r = model_1.fit(x_train,y_train,validation_data = (x_test,y_test),epochs = 15)"
   ]
  },
  {
   "cell_type": "code",
   "execution_count": 50,
   "id": "f5efce43",
   "metadata": {},
   "outputs": [
    {
     "name": "stdout",
     "output_type": "stream",
     "text": [
      "313/313 [==============================] - 0s 629us/step\n"
     ]
    }
   ],
   "source": [
    "# We have fit our model and tested the validation accuracy as well\n",
    "# Let us plot the confusion matrix for this model\n",
    "y_pred = model_1.predict(x_test).argmax(axis = 1)\n",
    "cm  = confusion_matrix(y_pred,y_test)"
   ]
  },
  {
   "cell_type": "code",
   "execution_count": 51,
   "id": "4d3dd20e",
   "metadata": {},
   "outputs": [
    {
     "data": {
      "image/png": "[encoded data removed]",
      "text/plain": [
       "<Figure size 432x288 with 2 Axes>"
      ]
     },
     "metadata": {
      "needs_background": "light"
     },
     "output_type": "display_data"
    }
   ],
   "source": [
    "import itertools\n",
    "labels = [0,1,2,3,4,5,6,7,8,9]\n",
    "plt.imshow(cm, interpolation='nearest', cmap=plt.cm.Blues)\n",
    "plt.title(\"Confusion Matrix\")\n",
    "plt.colorbar()\n",
    "tick_marks = np.arange(len(labels))\n",
    "plt.xticks(tick_marks, labels, rotation=45)\n",
    "plt.yticks(tick_marks, labels)\n",
    "\n",
    "# Normalize the confusion matrix\n",
    "\n",
    "\n",
    "# Use white text if squares are dark; otherwise black\n",
    "thresh = cm.max() / 2.\n",
    "for i, j in itertools.product(range(cm.shape[0]), range(cm.shape[1])):\n",
    "    color = \"white\" if cm[i, j] > thresh else \"black\"\n",
    "    plt.text(j, i, format(cm[i, j], '.2f'), horizontalalignment=\"center\", color=color)\n",
    "\n",
    "plt.tight_layout()\n",
    "plt.ylabel('True label')\n",
    "plt.xlabel('Predicted label')\n",
    "plt.show()"
   ]
  },
  {
   "cell_type": "code",
   "execution_count": 154,
   "id": "7a1b2d7e",
   "metadata": {},
   "outputs": [
    {
     "name": "stdout",
     "output_type": "stream",
     "text": [
      "The predicted label was 5 where as the real was 8\n"
     ]
    },
    {
     "data": {
      "image/png": "[encoded data removed]",
      "text/plain": [
       "<Figure size 432x288 with 1 Axes>"
      ]
     },
     "metadata": {
      "needs_background": "light"
     },
     "output_type": "display_data"
    }
   ],
   "source": [
    "# As with this confusion matrix we can see that classification for similar looking classes like 2,7 the misclassification number is high\n",
    "# Let us look this in-depth\n",
    "misclass = np.where(y_test != y_pred)[0]\n",
    "i = np.random.choice(misclass)\n",
    "plt.imshow(x_test[i],cmap = 'gray')\n",
    "print(\"The predicted label was \"+str(y_pred[i])+' where as the real was '+str(y_test[i]))    "
   ]
  },
  {
   "cell_type": "code",
   "execution_count": 63,
   "id": "e8ba12cf",
   "metadata": {},
   "outputs": [],
   "source": [
    "# By re-running you can for yourself what is the problem."
   ]
  },
  {
   "cell_type": "code",
   "execution_count": 88,
   "id": "293b1b97",
   "metadata": {},
   "outputs": [],
   "source": [
    "# Let us now try using a model with some more layers\n",
    "model_2 = tf.keras.models.Sequential([tf.keras.layers.Flatten(input_shape =(28,28)),\n",
    "                                     tf.keras.layers.Dense(units = 16, activation = 'relu'),\n",
    "                                     tf.keras.layers.Dense(units = 32, activation = 'relu'),\n",
    "                                     tf.keras.layers.Dense(units = 64, activation = 'relu'),\n",
    "                                     tf.keras.layers.Dense(units = 128, activation = 'relu'),\n",
    "                                     tf.keras.layers.Dense(units = 256, activation = 'relu'),\n",
    "                                     tf.keras.layers.Dense(units = 512, activation = 'relu'),\n",
    "                                     tf.keras.layers.Dropout(0.2),\n",
    "                                     tf.keras.layers.Dense(units = 10, activation = 'sigmoid')])"
   ]
  },
  {
   "cell_type": "code",
   "execution_count": 89,
   "id": "79583980",
   "metadata": {},
   "outputs": [],
   "source": [
    "model_2.compile(optimizer = 'Adam',loss = 'sparse_categorical_crossentropy',metrics = 'accuracy')"
   ]
  },
  {
   "cell_type": "code",
   "execution_count": 90,
   "id": "163fe0aa",
   "metadata": {},
   "outputs": [
    {
     "name": "stdout",
     "output_type": "stream",
     "text": [
      "Epoch 1/30\n",
      "1875/1875 [==============================] - 5s 2ms/step - loss: 0.3866 - accuracy: 0.8780 - val_loss: 0.2297 - val_accuracy: 0.9298\n",
      "Epoch 2/30\n",
      "1875/1875 [==============================] - 4s 2ms/step - loss: 0.2071 - accuracy: 0.9381 - val_loss: 0.2173 - val_accuracy: 0.9373\n",
      "Epoch 3/30\n",
      "1875/1875 [==============================] - 4s 2ms/step - loss: 0.1709 - accuracy: 0.9493 - val_loss: 0.1787 - val_accuracy: 0.9517\n",
      "Epoch 4/30\n",
      "1875/1875 [==============================] - 4s 2ms/step - loss: 0.1486 - accuracy: 0.9552 - val_loss: 0.1719 - val_accuracy: 0.9531\n",
      "Epoch 5/30\n",
      "1875/1875 [==============================] - 4s 2ms/step - loss: 0.1343 - accuracy: 0.9603 - val_loss: 0.2102 - val_accuracy: 0.9456\n",
      "Epoch 6/30\n",
      "1875/1875 [==============================] - 4s 2ms/step - loss: 0.1235 - accuracy: 0.9622 - val_loss: 0.1347 - val_accuracy: 0.9616\n",
      "Epoch 7/30\n",
      "1875/1875 [==============================] - 4s 2ms/step - loss: 0.1137 - accuracy: 0.9657 - val_loss: 0.1747 - val_accuracy: 0.9551\n",
      "Epoch 8/30\n",
      "1875/1875 [==============================] - 5s 3ms/step - loss: 0.1070 - accuracy: 0.9673 - val_loss: 0.1449 - val_accuracy: 0.9590\n",
      "Epoch 9/30\n",
      "1875/1875 [==============================] - 5s 2ms/step - loss: 0.1016 - accuracy: 0.9694 - val_loss: 0.1432 - val_accuracy: 0.9625\n",
      "Epoch 10/30\n",
      "1875/1875 [==============================] - 4s 2ms/step - loss: 0.0932 - accuracy: 0.9714 - val_loss: 0.1716 - val_accuracy: 0.9538\n",
      "Epoch 11/30\n",
      "1875/1875 [==============================] - 7s 4ms/step - loss: 0.0951 - accuracy: 0.9713 - val_loss: 0.1465 - val_accuracy: 0.9650\n",
      "Epoch 12/30\n",
      "1875/1875 [==============================] - 7s 4ms/step - loss: 0.0876 - accuracy: 0.9724 - val_loss: 0.1511 - val_accuracy: 0.9633\n",
      "Epoch 13/30\n",
      "1875/1875 [==============================] - 8s 4ms/step - loss: 0.0858 - accuracy: 0.9742 - val_loss: 0.1697 - val_accuracy: 0.9556\n",
      "Epoch 14/30\n",
      "1875/1875 [==============================] - 7s 4ms/step - loss: 0.0835 - accuracy: 0.9750 - val_loss: 0.1378 - val_accuracy: 0.9641\n",
      "Epoch 15/30\n",
      "1875/1875 [==============================] - 8s 4ms/step - loss: 0.0771 - accuracy: 0.9764 - val_loss: 0.1490 - val_accuracy: 0.9613\n",
      "Epoch 16/30\n",
      "1875/1875 [==============================] - 11s 6ms/step - loss: 0.0772 - accuracy: 0.9766 - val_loss: 0.1362 - val_accuracy: 0.9659\n",
      "Epoch 17/30\n",
      "1875/1875 [==============================] - 11s 6ms/step - loss: 0.0717 - accuracy: 0.9778 - val_loss: 0.1569 - val_accuracy: 0.9657\n",
      "Epoch 18/30\n",
      "1875/1875 [==============================] - 9s 5ms/step - loss: 0.0716 - accuracy: 0.9776 - val_loss: 0.1596 - val_accuracy: 0.9631\n",
      "Epoch 19/30\n",
      "1875/1875 [==============================] - 8s 4ms/step - loss: 0.0706 - accuracy: 0.9784 - val_loss: 0.1566 - val_accuracy: 0.9627\n",
      "Epoch 20/30\n",
      "1875/1875 [==============================] - 9s 5ms/step - loss: 0.0684 - accuracy: 0.9792 - val_loss: 0.1611 - val_accuracy: 0.9631\n",
      "Epoch 21/30\n",
      "1875/1875 [==============================] - 8s 4ms/step - loss: 0.0645 - accuracy: 0.9796 - val_loss: 0.1774 - val_accuracy: 0.9612\n",
      "Epoch 22/30\n",
      "1875/1875 [==============================] - 9s 5ms/step - loss: 0.0668 - accuracy: 0.9794 - val_loss: 0.1660 - val_accuracy: 0.9618\n",
      "Epoch 23/30\n",
      "1875/1875 [==============================] - 9s 5ms/step - loss: 0.0667 - accuracy: 0.9798 - val_loss: 0.2110 - val_accuracy: 0.9532\n",
      "Epoch 24/30\n",
      "1875/1875 [==============================] - 8s 4ms/step - loss: 0.0635 - accuracy: 0.9805 - val_loss: 0.1722 - val_accuracy: 0.9633\n",
      "Epoch 25/30\n",
      "1875/1875 [==============================] - 8s 4ms/step - loss: 0.0628 - accuracy: 0.9805 - val_loss: 0.1729 - val_accuracy: 0.9645\n",
      "Epoch 26/30\n",
      "1875/1875 [==============================] - 7s 4ms/step - loss: 0.0610 - accuracy: 0.9812 - val_loss: 0.1834 - val_accuracy: 0.9618\n",
      "Epoch 27/30\n",
      "1875/1875 [==============================] - 7s 4ms/step - loss: 0.0601 - accuracy: 0.9813 - val_loss: 0.2225 - val_accuracy: 0.9618\n",
      "Epoch 28/30\n",
      "1875/1875 [==============================] - 8s 4ms/step - loss: 0.0578 - accuracy: 0.9813 - val_loss: 0.1821 - val_accuracy: 0.9628\n",
      "Epoch 29/30\n",
      "1875/1875 [==============================] - 8s 5ms/step - loss: 0.0574 - accuracy: 0.9822 - val_loss: 0.1959 - val_accuracy: 0.9650\n",
      "Epoch 30/30\n",
      "1875/1875 [==============================] - 8s 4ms/step - loss: 0.0622 - accuracy: 0.9810 - val_loss: 0.1872 - val_accuracy: 0.9630\n"
     ]
    }
   ],
   "source": [
    "r_2 = model_2.fit(x_train,y_train,validation_data = (x_test,y_test),epochs = 30)"
   ]
  },
  {
   "cell_type": "code",
   "execution_count": 91,
   "id": "b3cde8b7",
   "metadata": {},
   "outputs": [
    {
     "name": "stdout",
     "output_type": "stream",
     "text": [
      "313/313 [==============================] - 0s 1ms/step - loss: 0.0933 - accuracy: 0.9808\n"
     ]
    },
    {
     "data": {
      "text/plain": [
       "[0.09328067302703857, 0.9807999730110168]"
      ]
     },
     "execution_count": 91,
     "metadata": {},
     "output_type": "execute_result"
    }
   ],
   "source": [
    "model_1.evaluate(x_test,y_test)"
   ]
  },
  {
   "cell_type": "code",
   "execution_count": 92,
   "id": "2abd2bbc",
   "metadata": {},
   "outputs": [
    {
     "name": "stdout",
     "output_type": "stream",
     "text": [
      "313/313 [==============================] - 1s 2ms/step - loss: 0.1872 - accuracy: 0.9630\n"
     ]
    },
    {
     "data": {
      "text/plain": [
       "[0.18715877830982208, 0.9629999995231628]"
      ]
     },
     "execution_count": 92,
     "metadata": {},
     "output_type": "execute_result"
    }
   ],
   "source": [
    "model_2.evaluate(x_test,y_test)"
   ]
  },
  {
   "cell_type": "code",
   "execution_count": 138,
   "id": "62656a7a",
   "metadata": {},
   "outputs": [],
   "source": [
    "# So even after increasing the number of epochs and trying more layers our accuracy for validation set is worse and hence using this was not a great idea\n",
    "# Lets go for a CNN method \n",
    "model_3 = tf.keras.models.Sequential([tf.keras.layers.Conv2D(32,(3,3),input_shape = (28,28,1),activation ='relu'),\n",
    "                                     tf.keras.layers.AveragePooling2D((2,2)),\n",
    "                                      tf.keras.layers.Conv2D(64,(3,3),activation = 'relu'),\n",
    "                                   tf.keras.layers.AveragePooling2D((2,2)),\n",
    "#                                      tf.keras.layers.Conv2D(64,(3,3),padding = 'valid',activation = 'relu'),\n",
    "#                                      tf.keras.layers.AveragePooling2D((2,2)),\n",
    "#                                      tf.keras.layers.Conv2D(128,(3,3),padding = 'valid',activation = 'relu'),\n",
    "#                                      tf.keras.layers.AveragePooling2D((2,2)),\n",
    "                                     tf.keras.layers.Flatten(),\n",
    "                                     tf.keras.layers.Dense(256,activation = 'relu'),\n",
    "                                     tf.keras.layers.Dense(10,activation = 'softmax')])"
   ]
  },
  {
   "cell_type": "code",
   "execution_count": 139,
   "id": "96459b42",
   "metadata": {},
   "outputs": [],
   "source": [
    "model_3.compile(optimizer = 'Adam',loss = 'sparse_categorical_crossentropy',metrics = 'accuracy')"
   ]
  },
  {
   "cell_type": "code",
   "execution_count": 140,
   "id": "acff80a8",
   "metadata": {},
   "outputs": [
    {
     "name": "stdout",
     "output_type": "stream",
     "text": [
      "Epoch 1/10\n",
      "1875/1875 [==============================] - 30s 16ms/step - loss: 0.1458 - accuracy: 0.9567 - val_loss: 0.0497 - val_accuracy: 0.9837\n",
      "Epoch 2/10\n",
      "1875/1875 [==============================] - 26s 14ms/step - loss: 0.0471 - accuracy: 0.9857 - val_loss: 0.0355 - val_accuracy: 0.9883\n",
      "Epoch 3/10\n",
      "1875/1875 [==============================] - 25s 13ms/step - loss: 0.0331 - accuracy: 0.9895 - val_loss: 0.0508 - val_accuracy: 0.9841\n",
      "Epoch 4/10\n",
      "1875/1875 [==============================] - 28s 15ms/step - loss: 0.0258 - accuracy: 0.9916 - val_loss: 0.0310 - val_accuracy: 0.9894\n",
      "Epoch 5/10\n",
      "1875/1875 [==============================] - 26s 14ms/step - loss: 0.0191 - accuracy: 0.9938 - val_loss: 0.0261 - val_accuracy: 0.9912\n",
      "Epoch 6/10\n",
      "1875/1875 [==============================] - 26s 14ms/step - loss: 0.0150 - accuracy: 0.9952 - val_loss: 0.0310 - val_accuracy: 0.9911\n",
      "Epoch 7/10\n",
      "1875/1875 [==============================] - 25s 13ms/step - loss: 0.0117 - accuracy: 0.9960 - val_loss: 0.0228 - val_accuracy: 0.9936\n",
      "Epoch 8/10\n",
      "1875/1875 [==============================] - 25s 13ms/step - loss: 0.0097 - accuracy: 0.9970 - val_loss: 0.0307 - val_accuracy: 0.9901\n",
      "Epoch 9/10\n",
      "1875/1875 [==============================] - 26s 14ms/step - loss: 0.0079 - accuracy: 0.9974 - val_loss: 0.0341 - val_accuracy: 0.9904\n",
      "Epoch 10/10\n",
      "1875/1875 [==============================] - 28s 15ms/step - loss: 0.0068 - accuracy: 0.9979 - val_loss: 0.0404 - val_accuracy: 0.9891\n"
     ]
    },
    {
     "data": {
      "text/plain": [
       "<keras.callbacks.History at 0x1c62f54e250>"
      ]
     },
     "execution_count": 140,
     "metadata": {},
     "output_type": "execute_result"
    }
   ],
   "source": [
    "model_3.fit(x_train,y_train,validation_data = (x_test,y_test),epochs = 10)"
   ]
  },
  {
   "cell_type": "code",
   "execution_count": 141,
   "id": "19037950",
   "metadata": {},
   "outputs": [
    {
     "name": "stdout",
     "output_type": "stream",
     "text": [
      "313/313 [==============================] - 1s 3ms/step\n"
     ]
    }
   ],
   "source": [
    "y_pred_3 = model_3.predict(x_test).argmax(axis = 1)"
   ]
  },
  {
   "cell_type": "code",
   "execution_count": 142,
   "id": "ad1b853e",
   "metadata": {},
   "outputs": [
    {
     "name": "stdout",
     "output_type": "stream",
     "text": [
      "313/313 [==============================] - 1s 3ms/step - loss: 0.0404 - accuracy: 0.9891\n"
     ]
    },
    {
     "data": {
      "text/plain": [
       "[0.04035135358572006, 0.9890999794006348]"
      ]
     },
     "execution_count": 142,
     "metadata": {},
     "output_type": "execute_result"
    }
   ],
   "source": [
    "model_3.evaluate(x_test,y_test)"
   ]
  },
  {
   "cell_type": "code",
   "execution_count": 143,
   "id": "edfc4220",
   "metadata": {},
   "outputs": [
    {
     "data": {
      "image/png": "[encoded data removed]",
      "text/plain": [
       "<Figure size 432x288 with 2 Axes>"
      ]
     },
     "metadata": {
      "needs_background": "light"
     },
     "output_type": "display_data"
    }
   ],
   "source": [
    "# The validation accuracy for model_3 or CNN is better than the previous best model by some good margin so let us plot its confusion matrix \n",
    "cm  = confusion_matrix(y_pred_3,y_test)\n",
    "labels = [0,1,2,3,4,5,6,7,8,9]\n",
    "plt.imshow(cm, interpolation='nearest', cmap=plt.cm.Blues)\n",
    "plt.title(\"Confusion Matrix\")\n",
    "plt.colorbar()\n",
    "tick_marks = np.arange(len(labels))\n",
    "plt.xticks(tick_marks, labels, rotation=45)\n",
    "plt.yticks(tick_marks, labels)\n",
    "\n",
    "# Use white text if squares are dark; otherwise black\n",
    "thresh = cm.max() / 2.\n",
    "for i, j in itertools.product(range(cm.shape[0]), range(cm.shape[1])):\n",
    "    color = \"white\" if cm[i, j] > thresh else \"black\"\n",
    "    plt.text(j, i, format(cm[i, j], '.2f'), horizontalalignment=\"center\", color=color)\n",
    "\n",
    "plt.tight_layout()\n",
    "plt.ylabel('True label')\n",
    "plt.xlabel('Predicted label')\n",
    "plt.show()"
   ]
  },
  {
   "cell_type": "code",
   "execution_count": 194,
   "id": "d29adf66",
   "metadata": {},
   "outputs": [
    {
     "name": "stdout",
     "output_type": "stream",
     "text": [
      "The predicted label was 3 where as the real was 8\n"
     ]
    },
    {
     "data": {
      "image/png": "[encoded data removed]",
      "text/plain": [
       "<Figure size 432x288 with 1 Axes>"
      ]
     },
     "metadata": {
      "needs_background": "light"
     },
     "output_type": "display_data"
    }
   ],
   "source": [
    "# There is still some confusion between some numbers but let us see what was the test input \n",
    "misclass = np.where(y_test != y_pred_3)[0]\n",
    "i = np.random.choice(misclass)\n",
    "plt.imshow(x_test[i],cmap = 'gray')\n",
    "print(\"The predicted label was \"+str(y_pred[i])+' where as the real was '+str(y_test[i]))   "
   ]
  },
  {
   "cell_type": "code",
   "execution_count": 192,
   "id": "11107664",
   "metadata": {},
   "outputs": [],
   "source": [
    "# You can see the problem of misclassification with the ANN has persisted but has reduced by some margin with this model.\n",
    "# Also you can see that misclassified data is more blurrier and confusing even to us humans.\n",
    "# You can see that our CNN has overfitted so let us try regularizing by a dropout layer.\n",
    "# We do not need to do batch normalization as our data is not that huge where it would help significantly hence we skip it here\n",
    "model_4 = tf.keras.models.Sequential([tf.keras.layers.Conv2D(32,(3,3),input_shape = (28,28,1),activation ='relu'),\n",
    "                                     tf.keras.layers.AveragePooling2D((2,2)),\n",
    "                                     tf.keras.layers.Conv2D(64,(3,3),activation = 'relu'),\n",
    "                                     tf.keras.layers.AveragePooling2D((2,2)),\n",
    "                                     tf.keras.layers.Flatten(),\n",
    "                                     tf.keras.layers.Dense(256,activation = 'relu'),\n",
    "                                     tf.keras.layers.Dropout(0.2),\n",
    "                                     tf.keras.layers.Dense(10,activation = 'softmax')])"
   ]
  },
  {
   "cell_type": "code",
   "execution_count": 129,
   "id": "7c01536e",
   "metadata": {},
   "outputs": [],
   "source": [
    "model_4.compile(optimizer = 'Adam',loss = 'sparse_categorical_crossentropy',metrics = ['accuracy'])"
   ]
  },
  {
   "cell_type": "code",
   "execution_count": 130,
   "id": "1b9bf5be",
   "metadata": {},
   "outputs": [
    {
     "name": "stdout",
     "output_type": "stream",
     "text": [
      "Epoch 1/10\n",
      "1875/1875 [==============================] - 27s 14ms/step - loss: 0.1550 - accuracy: 0.9533 - val_loss: 0.0480 - val_accuracy: 0.9854\n",
      "Epoch 2/10\n",
      "1875/1875 [==============================] - 26s 14ms/step - loss: 0.0538 - accuracy: 0.9834 - val_loss: 0.0437 - val_accuracy: 0.9854\n",
      "Epoch 3/10\n",
      "1875/1875 [==============================] - 27s 14ms/step - loss: 0.0394 - accuracy: 0.9876 - val_loss: 0.0306 - val_accuracy: 0.9899\n",
      "Epoch 4/10\n",
      "1875/1875 [==============================] - 26s 14ms/step - loss: 0.0304 - accuracy: 0.9907 - val_loss: 0.0273 - val_accuracy: 0.9910\n",
      "Epoch 5/10\n",
      "1875/1875 [==============================] - 26s 14ms/step - loss: 0.0243 - accuracy: 0.9926 - val_loss: 0.0360 - val_accuracy: 0.9887\n",
      "Epoch 6/10\n",
      "1875/1875 [==============================] - 27s 14ms/step - loss: 0.0206 - accuracy: 0.9936 - val_loss: 0.0259 - val_accuracy: 0.9919\n",
      "Epoch 7/10\n",
      "1875/1875 [==============================] - 28s 15ms/step - loss: 0.0167 - accuracy: 0.9950 - val_loss: 0.0226 - val_accuracy: 0.9927\n",
      "Epoch 8/10\n",
      "1875/1875 [==============================] - 30s 16ms/step - loss: 0.0138 - accuracy: 0.9954 - val_loss: 0.0238 - val_accuracy: 0.9932\n",
      "Epoch 9/10\n",
      "1875/1875 [==============================] - 26s 14ms/step - loss: 0.0128 - accuracy: 0.9959 - val_loss: 0.0274 - val_accuracy: 0.9925\n",
      "Epoch 10/10\n",
      "1875/1875 [==============================] - 25s 13ms/step - loss: 0.0103 - accuracy: 0.9966 - val_loss: 0.0280 - val_accuracy: 0.9915\n"
     ]
    },
    {
     "data": {
      "text/plain": [
       "<keras.callbacks.History at 0x1c627567040>"
      ]
     },
     "execution_count": 130,
     "metadata": {},
     "output_type": "execute_result"
    }
   ],
   "source": [
    "model_4.fit(x_train,y_train,validation_data = (x_test,y_test),epochs = 10)"
   ]
  },
  {
   "cell_type": "code",
   "execution_count": 131,
   "id": "f0fd9e60",
   "metadata": {},
   "outputs": [
    {
     "name": "stdout",
     "output_type": "stream",
     "text": [
      "313/313 [==============================] - 1s 3ms/step - loss: 0.0280 - accuracy: 0.9915\n"
     ]
    },
    {
     "data": {
      "text/plain": [
       "[0.027956563979387283, 0.9915000200271606]"
      ]
     },
     "execution_count": 131,
     "metadata": {},
     "output_type": "execute_result"
    }
   ],
   "source": [
    "model_4.evaluate(x_test,y_test)"
   ]
  },
  {
   "cell_type": "code",
   "execution_count": 145,
   "id": "bf160d17",
   "metadata": {},
   "outputs": [
    {
     "name": "stdout",
     "output_type": "stream",
     "text": [
      "313/313 [==============================] - 1s 3ms/step\n"
     ]
    }
   ],
   "source": [
    "# As you can see this has performed even better than the previous best CNN by a significant margin \n",
    "y_pred_4 = model_4.predict(x_test).argmax(axis = 1)"
   ]
  },
  {
   "cell_type": "code",
   "execution_count": 146,
   "id": "cddd0a9b",
   "metadata": {},
   "outputs": [
    {
     "data": {
      "image/png": "[encoded data removed]",
      "text/plain": [
       "<Figure size 432x288 with 2 Axes>"
      ]
     },
     "metadata": {
      "needs_background": "light"
     },
     "output_type": "display_data"
    }
   ],
   "source": [
    "cm  = confusion_matrix(y_pred_4,y_test)\n",
    "labels = [0,1,2,3,4,5,6,7,8,9]\n",
    "plt.imshow(cm, interpolation='nearest', cmap=plt.cm.Blues)\n",
    "plt.title(\"Confusion Matrix\")\n",
    "plt.colorbar()\n",
    "tick_marks = np.arange(len(labels))\n",
    "plt.xticks(tick_marks, labels, rotation=45)\n",
    "plt.yticks(tick_marks, labels)\n",
    "\n",
    "# Use white text if squares are dark; otherwise black\n",
    "thresh = cm.max() / 2.\n",
    "for i, j in itertools.product(range(cm.shape[0]), range(cm.shape[1])):\n",
    "    color = \"white\" if cm[i, j] > thresh else \"black\"\n",
    "    plt.text(j, i, format(cm[i, j], '.2f'), horizontalalignment=\"center\", color=color)\n",
    "\n",
    "plt.tight_layout()\n",
    "plt.ylabel('True label')\n",
    "plt.xlabel('Predicted label')\n",
    "plt.show()"
   ]
  },
  {
   "cell_type": "code",
   "execution_count": 159,
   "id": "865323ed",
   "metadata": {},
   "outputs": [
    {
     "name": "stdout",
     "output_type": "stream",
     "text": [
      "The predicted label was 6 where as the real was 4\n"
     ]
    },
    {
     "data": {
      "image/png": "[encoded data removed]",
      "text/plain": [
       "<Figure size 432x288 with 1 Axes>"
      ]
     },
     "metadata": {
      "needs_background": "light"
     },
     "output_type": "display_data"
    }
   ],
   "source": [
    "misclass = np.where(y_test != y_pred_4)[0]\n",
    "i = np.random.choice(misclass)\n",
    "plt.imshow(x_test[i],cmap = 'gray')\n",
    "print(\"The predicted label was \"+str(y_pred[i])+' where as the real was '+str(y_test[i]))   "
   ]
  },
  {
   "cell_type": "code",
   "execution_count": 166,
   "id": "055ec6bc",
   "metadata": {},
   "outputs": [],
   "source": [
    "# As you can see the images gets blurry that is when the output is getting fuzzier for the CNN network\n",
    "# Also we can see that the humans also can mistake in classifying such images "
   ]
  },
  {
   "cell_type": "code",
   "execution_count": 173,
   "id": "01ca5d75",
   "metadata": {},
   "outputs": [],
   "source": [
    "# Let us try using RNN for the same image classification problem\n",
    "model_5 = tf.keras.models.Sequential([\n",
    "    tf.keras.layers.InputLayer(input_shape = (28,28)),\n",
    "    tf.keras.layers.SimpleRNN(units = 128,activation= 'relu'),\n",
    "    tf.keras.layers.Dense(units = 10,activation = 'softmax')\n",
    "])\n"
   ]
  },
  {
   "cell_type": "code",
   "execution_count": 174,
   "id": "905106f3",
   "metadata": {},
   "outputs": [],
   "source": [
    "model_5.compile(optimizer = 'Adam',loss = 'sparse_categorical_crossentropy',metrics = 'accuracy')"
   ]
  },
  {
   "cell_type": "code",
   "execution_count": 175,
   "id": "677562c1",
   "metadata": {},
   "outputs": [
    {
     "name": "stdout",
     "output_type": "stream",
     "text": [
      "Epoch 1/10\n",
      "1875/1875 [==============================] - 8s 4ms/step - loss: 0.4194 - accuracy: 0.8659 - val_loss: 0.2063 - val_accuracy: 0.9363\n",
      "Epoch 2/10\n",
      "1875/1875 [==============================] - 7s 4ms/step - loss: 0.1903 - accuracy: 0.9460 - val_loss: 0.1897 - val_accuracy: 0.9453\n",
      "Epoch 3/10\n",
      "1875/1875 [==============================] - 7s 4ms/step - loss: 0.1615 - accuracy: 0.9550 - val_loss: 0.1423 - val_accuracy: 0.9629\n",
      "Epoch 4/10\n",
      "1875/1875 [==============================] - 7s 4ms/step - loss: 0.1434 - accuracy: 0.9591 - val_loss: 0.1482 - val_accuracy: 0.9567\n",
      "Epoch 5/10\n",
      "1875/1875 [==============================] - 7s 4ms/step - loss: 0.1263 - accuracy: 0.9643 - val_loss: 0.1109 - val_accuracy: 0.9718\n",
      "Epoch 6/10\n",
      "1875/1875 [==============================] - 7s 4ms/step - loss: 0.1197 - accuracy: 0.9664 - val_loss: 0.1064 - val_accuracy: 0.9678\n",
      "Epoch 7/10\n",
      "1875/1875 [==============================] - 7s 4ms/step - loss: 0.1135 - accuracy: 0.9689 - val_loss: 0.1323 - val_accuracy: 0.9603\n",
      "Epoch 8/10\n",
      "1875/1875 [==============================] - 7s 4ms/step - loss: 0.1062 - accuracy: 0.9708 - val_loss: 0.0900 - val_accuracy: 0.9748\n",
      "Epoch 9/10\n",
      "1875/1875 [==============================] - 7s 4ms/step - loss: 0.1028 - accuracy: 0.9715 - val_loss: 0.1519 - val_accuracy: 0.9564\n",
      "Epoch 10/10\n",
      "1875/1875 [==============================] - 7s 4ms/step - loss: 0.0983 - accuracy: 0.9728 - val_loss: 0.0938 - val_accuracy: 0.9748\n"
     ]
    },
    {
     "data": {
      "text/plain": [
       "<keras.callbacks.History at 0x1c6365b2ac0>"
      ]
     },
     "execution_count": 175,
     "metadata": {},
     "output_type": "execute_result"
    }
   ],
   "source": [
    "model_5.fit(x_train,y_train,validation_data = (x_test,y_test),epochs = 10)"
   ]
  },
  {
   "cell_type": "code",
   "execution_count": 176,
   "id": "dddf981b",
   "metadata": {},
   "outputs": [
    {
     "name": "stdout",
     "output_type": "stream",
     "text": [
      "313/313 [==============================] - 0s 2ms/step - loss: 0.0938 - accuracy: 0.9748\n"
     ]
    },
    {
     "data": {
      "text/plain": [
       "[0.09380391240119934, 0.9747999906539917]"
      ]
     },
     "execution_count": 176,
     "metadata": {},
     "output_type": "execute_result"
    }
   ],
   "source": [
    "model_5.evaluate(x_test,y_test)"
   ]
  },
  {
   "cell_type": "code",
   "execution_count": 177,
   "id": "3ea521e0",
   "metadata": {},
   "outputs": [],
   "source": [
    "# So this RNN has worked worse than our originial ANN which means we need to look at some more powerful RNN technique\n",
    "# Let us try using LSTMS"
   ]
  },
  {
   "cell_type": "code",
   "execution_count": 179,
   "id": "52a2d2d5",
   "metadata": {},
   "outputs": [],
   "source": [
    "model_7 = tf.keras.models.Sequential([tf.keras.layers.LSTM(128,input_shape = (28,28),activation = 'relu'),\n",
    "                                     tf.keras.layers.Dense(10,activation = 'softmax')])"
   ]
  },
  {
   "cell_type": "code",
   "execution_count": 180,
   "id": "416437db",
   "metadata": {},
   "outputs": [],
   "source": [
    "model_7.compile(optimizer = 'Adam',loss = 'sparse_categorical_crossentropy',metrics = ['accuracy'])"
   ]
  },
  {
   "cell_type": "code",
   "execution_count": 181,
   "id": "74fd24dc",
   "metadata": {},
   "outputs": [
    {
     "name": "stdout",
     "output_type": "stream",
     "text": [
      "Epoch 1/10\n",
      "1875/1875 [==============================] - 22s 11ms/step - loss: 0.5576 - accuracy: 0.8191 - val_loss: 0.1467 - val_accuracy: 0.9561\n",
      "Epoch 2/10\n",
      "1875/1875 [==============================] - 20s 11ms/step - loss: 0.1228 - accuracy: 0.9630 - val_loss: 0.0785 - val_accuracy: 0.9748\n",
      "Epoch 3/10\n",
      "1875/1875 [==============================] - 21s 11ms/step - loss: 0.0866 - accuracy: 0.9736 - val_loss: 0.0690 - val_accuracy: 0.9782\n",
      "Epoch 4/10\n",
      "1875/1875 [==============================] - 22s 12ms/step - loss: 0.0681 - accuracy: 0.9799 - val_loss: 0.0620 - val_accuracy: 0.9827\n",
      "Epoch 5/10\n",
      "1875/1875 [==============================] - 23s 12ms/step - loss: 0.0571 - accuracy: 0.9824 - val_loss: 0.0510 - val_accuracy: 0.9823\n",
      "Epoch 6/10\n",
      "1875/1875 [==============================] - 21s 11ms/step - loss: 0.0483 - accuracy: 0.9858 - val_loss: 0.0414 - val_accuracy: 0.9867\n",
      "Epoch 7/10\n",
      "1875/1875 [==============================] - 21s 11ms/step - loss: 0.0403 - accuracy: 0.9875 - val_loss: 0.0455 - val_accuracy: 0.9859\n",
      "Epoch 8/10\n",
      "1875/1875 [==============================] - 21s 11ms/step - loss: 0.0360 - accuracy: 0.9894 - val_loss: 0.0443 - val_accuracy: 0.9869\n",
      "Epoch 9/10\n",
      "1875/1875 [==============================] - 21s 11ms/step - loss: 0.0317 - accuracy: 0.9899 - val_loss: 0.0446 - val_accuracy: 0.9872\n",
      "Epoch 10/10\n",
      "1875/1875 [==============================] - 20s 11ms/step - loss: 0.0297 - accuracy: 0.9912 - val_loss: 0.0405 - val_accuracy: 0.9889\n"
     ]
    },
    {
     "data": {
      "text/plain": [
       "<keras.callbacks.History at 0x1c63a95b400>"
      ]
     },
     "execution_count": 181,
     "metadata": {},
     "output_type": "execute_result"
    }
   ],
   "source": [
    "model_7.fit(x_train,y_train,validation_data = (x_test,y_test),epochs = 10)"
   ]
  },
  {
   "cell_type": "code",
   "execution_count": 182,
   "id": "05dcdcb2",
   "metadata": {},
   "outputs": [
    {
     "name": "stdout",
     "output_type": "stream",
     "text": [
      "313/313 [==============================] - 1s 4ms/step - loss: 0.0405 - accuracy: 0.9889\n"
     ]
    },
    {
     "data": {
      "text/plain": [
       "[0.040485356003046036, 0.9889000058174133]"
      ]
     },
     "execution_count": 182,
     "metadata": {},
     "output_type": "execute_result"
    }
   ],
   "source": [
    "model_7.evaluate(x_test,y_test)"
   ]
  },
  {
   "cell_type": "code",
   "execution_count": 184,
   "id": "e89e137b",
   "metadata": {},
   "outputs": [],
   "source": [
    "# As you can see LSTMS have worked well in comparison with RNN and other ANN \n",
    "# So finally we might conclude that the regularized CNN is the most helpful when we are classifying an mnist dataset.\n",
    "# Also we can use the same analysis or code to build a fashion dataset model as well."
   ]
  },
  {
   "cell_type": "code",
   "execution_count": null,
   "id": "7e1fecf9",
   "metadata": {},
   "outputs": [],
   "source": []
  }
 ],
 "metadata": {
  "kernelspec": {
   "display_name": "Python 3 (ipykernel)",
   "language": "python",
   "name": "python3"
  },
  "language_info": {
   "codemirror_mode": {
    "name": "ipython",
    "version": 3
   },
   "file_extension": ".py",
   "mimetype": "text/x-python",
   "name": "python",
   "nbconvert_exporter": "python",
   "pygments_lexer": "ipython3",
   "version": "3.9.12"
  }
 },
 "nbformat": 4,
 "nbformat_minor": 5
}
